{
 "cells": [
  {
   "cell_type": "code",
   "execution_count": 23,
   "metadata": {},
   "outputs": [],
   "source": [
    "# import pandas as pd\n",
    "# from flask import Flask\n",
    "# from flask_sqlalchemy import SQLAlchemy\n",
    "# from sqlalchemy import create_engine\n",
    "\n",
    "import numpy as np\n",
    "import pandas as pd\n",
    "import json\n",
    "import sqlalchemy as db\n",
    "from sqlalchemy.ext.automap import automap_base\n",
    "from sqlalchemy.orm import Session\n",
    "from sqlalchemy import create_engine, func, inspect\n",
    "from flask import Flask, jsonify"
   ]
  },
  {
   "cell_type": "code",
   "execution_count": 14,
   "metadata": {},
   "outputs": [],
   "source": [
    "# Path to sqlite\n",
    "database_path = \"epi_db.sqlite\"\n",
    "\n",
    "# # Create an engine that can talk to the database\n",
    "engine = create_engine(f\"sqlite:///{database_path}\")\n",
    "conn = engine.connect()\n",
    "\n",
    "# Query All Records in the the Database\n",
    "data = pd.read_sql(\"SELECT * FROM epifactor\", conn)"
   ]
  },
  {
   "cell_type": "code",
   "execution_count": 15,
   "metadata": {},
   "outputs": [
    {
     "data": {
      "text/html": [
       "<div>\n",
       "<style scoped>\n",
       "    .dataframe tbody tr th:only-of-type {\n",
       "        vertical-align: middle;\n",
       "    }\n",
       "\n",
       "    .dataframe tbody tr th {\n",
       "        vertical-align: top;\n",
       "    }\n",
       "\n",
       "    .dataframe thead th {\n",
       "        text-align: right;\n",
       "    }\n",
       "</style>\n",
       "<table border=\"1\" class=\"dataframe\">\n",
       "  <thead>\n",
       "    <tr style=\"text-align: right;\">\n",
       "      <th></th>\n",
       "      <th>field1</th>\n",
       "      <th>field2</th>\n",
       "      <th>field3</th>\n",
       "      <th>field4</th>\n",
       "      <th>field5</th>\n",
       "    </tr>\n",
       "  </thead>\n",
       "  <tbody>\n",
       "    <tr>\n",
       "      <th>0</th>\n",
       "      <td>None</td>\n",
       "      <td>calorie_epifactor</td>\n",
       "      <td>fat_epifactor</td>\n",
       "      <td>proten_epifactor</td>\n",
       "      <td>ingredeints_epifactor</td>\n",
       "    </tr>\n",
       "    <tr>\n",
       "      <th>1</th>\n",
       "      <td>0</td>\n",
       "      <td>17.01772966188123</td>\n",
       "      <td>10.674006444683135</td>\n",
       "      <td>10.674006444683135</td>\n",
       "      <td>22.839363017934446</td>\n",
       "    </tr>\n",
       "    <tr>\n",
       "      <th>2</th>\n",
       "      <td>1</td>\n",
       "      <td>21.255402076012764</td>\n",
       "      <td>21.67548500881834</td>\n",
       "      <td>21.67548500881834</td>\n",
       "      <td>35.71428571428571</td>\n",
       "    </tr>\n",
       "    <tr>\n",
       "      <th>3</th>\n",
       "      <td>2</td>\n",
       "      <td>24.998344918901026</td>\n",
       "      <td>17.597791072250345</td>\n",
       "      <td>17.597791072250345</td>\n",
       "      <td>28.364779874213834</td>\n",
       "    </tr>\n",
       "    <tr>\n",
       "      <th>4</th>\n",
       "      <td>3</td>\n",
       "      <td>23.532351767116104</td>\n",
       "      <td>15.880520337746356</td>\n",
       "      <td>15.880520337746356</td>\n",
       "      <td>30.36056273874471</td>\n",
       "    </tr>\n",
       "  </tbody>\n",
       "</table>\n",
       "</div>"
      ],
      "text/plain": [
       "  field1              field2              field3              field4  \\\n",
       "0   None   calorie_epifactor       fat_epifactor    proten_epifactor   \n",
       "1      0   17.01772966188123  10.674006444683135  10.674006444683135   \n",
       "2      1  21.255402076012764   21.67548500881834   21.67548500881834   \n",
       "3      2  24.998344918901026  17.597791072250345  17.597791072250345   \n",
       "4      3  23.532351767116104  15.880520337746356  15.880520337746356   \n",
       "\n",
       "                  field5  \n",
       "0  ingredeints_epifactor  \n",
       "1     22.839363017934446  \n",
       "2      35.71428571428571  \n",
       "3     28.364779874213834  \n",
       "4      30.36056273874471  "
      ]
     },
     "execution_count": 15,
     "metadata": {},
     "output_type": "execute_result"
    }
   ],
   "source": [
    "data.head()"
   ]
  },
  {
   "cell_type": "code",
   "execution_count": 16,
   "metadata": {},
   "outputs": [],
   "source": [
    "engine = db.create_engine('sqlite:///epi_db.sqlite')"
   ]
  },
  {
   "cell_type": "code",
   "execution_count": 17,
   "metadata": {},
   "outputs": [],
   "source": [
    "Base = automap_base()"
   ]
  },
  {
   "cell_type": "code",
   "execution_count": 18,
   "metadata": {},
   "outputs": [],
   "source": [
    "Base.prepare(engine, reflect=True)"
   ]
  },
  {
   "cell_type": "code",
   "execution_count": 24,
   "metadata": {},
   "outputs": [],
   "source": [
    "inspector = inspect(engine)"
   ]
  },
  {
   "cell_type": "code",
   "execution_count": 26,
   "metadata": {},
   "outputs": [
    {
     "name": "stdout",
     "output_type": "stream",
     "text": [
      "epicuriousity\n",
      "field1\n",
      "field2\n",
      "field3\n",
      "field4\n",
      "field5\n",
      "field6\n",
      "field7\n",
      "field8\n",
      "field9\n",
      "field10\n",
      "field11\n",
      "field12\n",
      "field13\n",
      "field14\n",
      "field15\n",
      "field16\n",
      "field17\n",
      "field18\n",
      "field19\n",
      "field20\n",
      "field21\n",
      "field22\n",
      "field23\n",
      "field24\n",
      "field25\n",
      "field26\n",
      "field27\n",
      "field28\n",
      "field29\n",
      "field30\n",
      "field31\n",
      "field32\n",
      "field33\n",
      "epifactor\n",
      "field1\n",
      "field2\n",
      "field3\n",
      "field4\n",
      "field5\n"
     ]
    }
   ],
   "source": [
    "from sqlalchemy import MetaData\n",
    "m = MetaData()\n",
    "m.reflect(engine)\n",
    "for table in m.tables.values():\n",
    "    print(table.name)\n",
    "    for column in table.c:\n",
    "        print(column.name)"
   ]
  },
  {
   "cell_type": "code",
   "execution_count": 29,
   "metadata": {},
   "outputs": [
    {
     "data": {
      "text/plain": [
       "Table('epifactor', MetaData(bind=None), Column('field1', TEXT(), table=<epifactor>), Column('field2', TEXT(), table=<epifactor>), Column('field3', TEXT(), table=<epifactor>), Column('field4', TEXT(), table=<epifactor>), Column('field5', TEXT(), table=<epifactor>), schema=None)"
      ]
     },
     "execution_count": 29,
     "metadata": {},
     "output_type": "execute_result"
    }
   ],
   "source": [
    "epifactor = db.Table('epifactor', m, autoload=True, autoload_with=engine)\n",
    "epifactor"
   ]
  },
  {
   "cell_type": "code",
   "execution_count": 34,
   "metadata": {},
   "outputs": [
    {
     "data": {
      "text/plain": [
       "[(None, 'calorie_epifactor', 'fat_epifactor', 'proten_epifactor', 'ingredeints_epifactor'),\n",
       " ('0', '17.01772966188123', '10.674006444683135', '10.674006444683135', '22.839363017934446'),\n",
       " ('1', '21.255402076012764', '21.67548500881834', '21.67548500881834', '35.71428571428571'),\n",
       " ('2', '24.998344918901026', '17.597791072250345', '17.597791072250345', '28.364779874213834'),\n",
       " ('3', '23.532351767116104', '15.880520337746356', '15.880520337746356', '30.36056273874471'),\n",
       " ('4', '25.082000759308936', '15.84669435081904', '15.84669435081904', '19.6335222393955')]"
      ]
     },
     "execution_count": 34,
     "metadata": {},
     "output_type": "execute_result"
    }
   ],
   "source": [
    "query = db.select([epifactor])\n",
    "ResultProxy = conn.execute(query)\n",
    "ResultSet = ResultProxy.fetchall()\n",
    "ResultSet"
   ]
  },
  {
   "cell_type": "code",
   "execution_count": null,
   "metadata": {},
   "outputs": [],
   "source": []
  }
 ],
 "metadata": {
  "kernelspec": {
   "display_name": "Conda [PythonData]",
   "language": "python",
   "name": "pythondata"
  },
  "language_info": {
   "codemirror_mode": {
    "name": "ipython",
    "version": 3
   },
   "file_extension": ".py",
   "mimetype": "text/x-python",
   "name": "python",
   "nbconvert_exporter": "python",
   "pygments_lexer": "ipython3",
   "version": "3.6.9"
  }
 },
 "nbformat": 4,
 "nbformat_minor": 2
}
