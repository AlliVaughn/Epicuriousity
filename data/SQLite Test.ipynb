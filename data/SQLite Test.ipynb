{
 "cells": [
  {
   "cell_type": "code",
   "execution_count": 9,
   "metadata": {},
   "outputs": [],
   "source": [
    "import pandas as pd\n",
    "from flask import Flask\n",
    "from flask_sqlalchemy import SQLAlchemy\n",
    "from sqlalchemy import create_engine"
   ]
  },
  {
   "cell_type": "code",
   "execution_count": 11,
   "metadata": {},
   "outputs": [],
   "source": [
    "# Path to sqlite\n",
    "database_path = \"epi_db.sqlite\"\n",
    "\n",
    "# # Create an engine that can talk to the database\n",
    "engine = create_engine(f\"sqlite:///{database_path}\")\n",
    "conn = engine.connect()\n",
    "\n",
    "# Query All Records in the the Database\n",
    "data = pd.read_sql(\"SELECT * FROM epifactor\", conn)"
   ]
  },
  {
   "cell_type": "code",
   "execution_count": 12,
   "metadata": {},
   "outputs": [
    {
     "data": {
      "text/html": [
       "<div>\n",
       "<style scoped>\n",
       "    .dataframe tbody tr th:only-of-type {\n",
       "        vertical-align: middle;\n",
       "    }\n",
       "\n",
       "    .dataframe tbody tr th {\n",
       "        vertical-align: top;\n",
       "    }\n",
       "\n",
       "    .dataframe thead th {\n",
       "        text-align: right;\n",
       "    }\n",
       "</style>\n",
       "<table border=\"1\" class=\"dataframe\">\n",
       "  <thead>\n",
       "    <tr style=\"text-align: right;\">\n",
       "      <th></th>\n",
       "      <th>field1</th>\n",
       "      <th>field2</th>\n",
       "      <th>field3</th>\n",
       "      <th>field4</th>\n",
       "      <th>field5</th>\n",
       "    </tr>\n",
       "  </thead>\n",
       "  <tbody>\n",
       "    <tr>\n",
       "      <th>0</th>\n",
       "      <td>None</td>\n",
       "      <td>calorie_epifactor</td>\n",
       "      <td>fat_epifactor</td>\n",
       "      <td>proten_epifactor</td>\n",
       "      <td>ingredeints_epifactor</td>\n",
       "    </tr>\n",
       "    <tr>\n",
       "      <th>1</th>\n",
       "      <td>0</td>\n",
       "      <td>17.01772966188123</td>\n",
       "      <td>10.674006444683135</td>\n",
       "      <td>10.674006444683135</td>\n",
       "      <td>22.839363017934446</td>\n",
       "    </tr>\n",
       "    <tr>\n",
       "      <th>2</th>\n",
       "      <td>1</td>\n",
       "      <td>21.255402076012764</td>\n",
       "      <td>21.67548500881834</td>\n",
       "      <td>21.67548500881834</td>\n",
       "      <td>35.71428571428571</td>\n",
       "    </tr>\n",
       "    <tr>\n",
       "      <th>3</th>\n",
       "      <td>2</td>\n",
       "      <td>24.998344918901026</td>\n",
       "      <td>17.597791072250345</td>\n",
       "      <td>17.597791072250345</td>\n",
       "      <td>28.364779874213834</td>\n",
       "    </tr>\n",
       "    <tr>\n",
       "      <th>4</th>\n",
       "      <td>3</td>\n",
       "      <td>23.532351767116104</td>\n",
       "      <td>15.880520337746356</td>\n",
       "      <td>15.880520337746356</td>\n",
       "      <td>30.36056273874471</td>\n",
       "    </tr>\n",
       "  </tbody>\n",
       "</table>\n",
       "</div>"
      ],
      "text/plain": [
       "  field1              field2              field3              field4  \\\n",
       "0   None   calorie_epifactor       fat_epifactor    proten_epifactor   \n",
       "1      0   17.01772966188123  10.674006444683135  10.674006444683135   \n",
       "2      1  21.255402076012764   21.67548500881834   21.67548500881834   \n",
       "3      2  24.998344918901026  17.597791072250345  17.597791072250345   \n",
       "4      3  23.532351767116104  15.880520337746356  15.880520337746356   \n",
       "\n",
       "                  field5  \n",
       "0  ingredeints_epifactor  \n",
       "1     22.839363017934446  \n",
       "2      35.71428571428571  \n",
       "3     28.364779874213834  \n",
       "4      30.36056273874471  "
      ]
     },
     "execution_count": 12,
     "metadata": {},
     "output_type": "execute_result"
    }
   ],
   "source": [
    "data.head()"
   ]
  },
  {
   "cell_type": "code",
   "execution_count": null,
   "metadata": {},
   "outputs": [],
   "source": []
  }
 ],
 "metadata": {
  "kernelspec": {
   "display_name": "Conda [PythonData]",
   "language": "python",
   "name": "pythondata"
  },
  "language_info": {
   "codemirror_mode": {
    "name": "ipython",
    "version": 3
   },
   "file_extension": ".py",
   "mimetype": "text/x-python",
   "name": "python",
   "nbconvert_exporter": "python",
   "pygments_lexer": "ipython3",
   "version": "3.6.9"
  }
 },
 "nbformat": 4,
 "nbformat_minor": 2
}
