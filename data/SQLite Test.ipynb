{
 "cells": [
  {
   "cell_type": "code",
   "execution_count": 1,
   "metadata": {},
   "outputs": [],
   "source": [
    "import numpy as np\n",
    "import pandas as pd\n",
    "import json\n",
    "import sqlalchemy as db\n",
    "from sqlalchemy.ext.automap import automap_base\n",
    "from sqlalchemy.orm import Session\n",
    "from sqlalchemy import create_engine, func, inspect\n",
    "from flask import Flask, jsonify, render_template\n",
    "from sqlalchemy import MetaData"
   ]
  },
  {
   "cell_type": "code",
   "execution_count": 13,
   "metadata": {},
   "outputs": [],
   "source": [
    "# Path to sqlite\n",
    "database_path = \"epi_db.sqlite\"\n",
    "\n",
    "# # Create an engine that can talk to the database\n",
    "engine = create_engine(f\"sqlite:///{database_path}\")\n",
    "conn = engine.connect()"
   ]
  },
  {
   "cell_type": "code",
   "execution_count": 14,
   "metadata": {},
   "outputs": [],
   "source": [
    "m = MetaData()\n",
    "m.reflect(engine)"
   ]
  },
  {
   "cell_type": "code",
   "execution_count": 15,
   "metadata": {},
   "outputs": [
    {
     "data": {
      "text/plain": [
       "Table('epifactor', MetaData(bind=None), Column('field1', TEXT(), table=<epifactor>), Column('field2', TEXT(), table=<epifactor>), Column('field3', TEXT(), table=<epifactor>), Column('field4', TEXT(), table=<epifactor>), Column('field5', TEXT(), table=<epifactor>), schema=None)"
      ]
     },
     "execution_count": 15,
     "metadata": {},
     "output_type": "execute_result"
    }
   ],
   "source": [
    "epifactor = db.Table('epifactor', m, autoload=True, autoload_with=engine)\n",
    "epifactor"
   ]
  },
  {
   "cell_type": "code",
   "execution_count": 16,
   "metadata": {},
   "outputs": [
    {
     "data": {
      "text/html": [
       "<div>\n",
       "<style scoped>\n",
       "    .dataframe tbody tr th:only-of-type {\n",
       "        vertical-align: middle;\n",
       "    }\n",
       "\n",
       "    .dataframe tbody tr th {\n",
       "        vertical-align: top;\n",
       "    }\n",
       "\n",
       "    .dataframe thead th {\n",
       "        text-align: right;\n",
       "    }\n",
       "</style>\n",
       "<table border=\"1\" class=\"dataframe\">\n",
       "  <thead>\n",
       "    <tr style=\"text-align: right;\">\n",
       "      <th></th>\n",
       "      <th>index</th>\n",
       "      <th>1</th>\n",
       "      <th>2</th>\n",
       "      <th>3</th>\n",
       "      <th>4</th>\n",
       "    </tr>\n",
       "  </thead>\n",
       "  <tbody>\n",
       "    <tr>\n",
       "      <th>0</th>\n",
       "      <td>1</td>\n",
       "      <td>17.01772966188123</td>\n",
       "      <td>10.674006444683135</td>\n",
       "      <td>10.674006444683135</td>\n",
       "      <td>22.839363017934446</td>\n",
       "    </tr>\n",
       "    <tr>\n",
       "      <th>1</th>\n",
       "      <td>2</td>\n",
       "      <td>21.255402076012764</td>\n",
       "      <td>21.67548500881834</td>\n",
       "      <td>21.67548500881834</td>\n",
       "      <td>35.71428571428571</td>\n",
       "    </tr>\n",
       "    <tr>\n",
       "      <th>2</th>\n",
       "      <td>3</td>\n",
       "      <td>24.998344918901026</td>\n",
       "      <td>17.597791072250345</td>\n",
       "      <td>17.597791072250345</td>\n",
       "      <td>28.364779874213834</td>\n",
       "    </tr>\n",
       "    <tr>\n",
       "      <th>3</th>\n",
       "      <td>4</td>\n",
       "      <td>23.532351767116104</td>\n",
       "      <td>15.880520337746356</td>\n",
       "      <td>15.880520337746356</td>\n",
       "      <td>30.36056273874471</td>\n",
       "    </tr>\n",
       "    <tr>\n",
       "      <th>4</th>\n",
       "      <td>5</td>\n",
       "      <td>25.082000759308936</td>\n",
       "      <td>15.84669435081904</td>\n",
       "      <td>15.84669435081904</td>\n",
       "      <td>19.6335222393955</td>\n",
       "    </tr>\n",
       "  </tbody>\n",
       "</table>\n",
       "</div>"
      ],
      "text/plain": [
       "   index                   1                   2                   3  \\\n",
       "0      1   17.01772966188123  10.674006444683135  10.674006444683135   \n",
       "1      2  21.255402076012764   21.67548500881834   21.67548500881834   \n",
       "2      3  24.998344918901026  17.597791072250345  17.597791072250345   \n",
       "3      4  23.532351767116104  15.880520337746356  15.880520337746356   \n",
       "4      5  25.082000759308936   15.84669435081904   15.84669435081904   \n",
       "\n",
       "                    4  \n",
       "0  22.839363017934446  \n",
       "1   35.71428571428571  \n",
       "2  28.364779874213834  \n",
       "3   30.36056273874471  \n",
       "4    19.6335222393955  "
      ]
     },
     "execution_count": 16,
     "metadata": {},
     "output_type": "execute_result"
    }
   ],
   "source": [
    "query = db.select([epifactor])\n",
    "ResultProxy = conn.execute(query)\n",
    "ResultSet = ResultProxy.fetchall()\n",
    "ResultSet = pd.DataFrame(ResultSet)\n",
    "# ResultSet = ResultSet\n",
    "ResultSet.drop([0], inplace=True)\n",
    "ResultSet.drop(0, axis=1, inplace=True)\n",
    "ResultSet.reset_index(inplace=True)\n",
    "ResultSet"
   ]
  },
  {
   "cell_type": "code",
   "execution_count": 17,
   "metadata": {},
   "outputs": [
    {
     "data": {
      "text/plain": [
       "index           int64\n",
       "Calories       object\n",
       "Fat            object\n",
       "Protein        object\n",
       "Ingredients    object\n",
       "dtype: object"
      ]
     },
     "execution_count": 17,
     "metadata": {},
     "output_type": "execute_result"
    }
   ],
   "source": [
    "ResultSet.rename(columns={1:'Calories', 2:'Fat', 3:'Protein', 4:'Ingredients'}, inplace=True)\n",
    "ResultSet.dtypes"
   ]
  },
  {
   "cell_type": "code",
   "execution_count": 7,
   "metadata": {},
   "outputs": [
    {
     "data": {
      "text/plain": [
       "[{'name': 'Calories', 'value': '17.01772966188123'},\n",
       " {'name': 'Fat', 'value': '10.674006444683135'},\n",
       " {'name': 'Protein', 'value': '10.674006444683135'},\n",
       " {'name': 'Ingredients', 'value': '22.839363017934446'},\n",
       " {'name': 'Nothing', 'value': 0.2}]"
      ]
     },
     "execution_count": 7,
     "metadata": {},
     "output_type": "execute_result"
    }
   ],
   "source": [
    "radar_dict_test = [{'name': 'Calories', 'value': ResultSet['Calories'][0]},\n",
    "                   {'name': 'Fat', 'value': ResultSet['Fat'][0]},\n",
    "                   {'name': 'Protein', 'value': ResultSet['Protein'][0]},\n",
    "                   {'name': 'Ingredients', 'value': ResultSet['Ingredients'][0]},\n",
    "                   {'name': 'Nothing', 'value': 0.2}] \n",
    "radar_dict_test"
   ]
  },
  {
   "cell_type": "code",
   "execution_count": null,
   "metadata": {},
   "outputs": [],
   "source": []
  }
 ],
 "metadata": {
  "kernelspec": {
   "display_name": "Conda [PythonData]",
   "language": "python",
   "name": "pythondata"
  },
  "language_info": {
   "codemirror_mode": {
    "name": "ipython",
    "version": 3
   },
   "file_extension": ".py",
   "mimetype": "text/x-python",
   "name": "python",
   "nbconvert_exporter": "python",
   "pygments_lexer": "ipython3",
   "version": "3.6.9"
  }
 },
 "nbformat": 4,
 "nbformat_minor": 2
}
